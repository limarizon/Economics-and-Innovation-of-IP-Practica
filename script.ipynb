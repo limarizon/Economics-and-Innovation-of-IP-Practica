{
 "cells": [
  {
   "cell_type": "code",
   "execution_count": 32,
   "metadata": {
    "collapsed": true,
    "pycharm": {
     "is_executing": false
    }
   },
   "outputs": [
    {
     "data": {
      "text/plain": "{'id': 'identification number',\n 'ost': 'east/west at draw',\n 'branche': 'share in 22 ecnomic sectors',\n 'filter': 'innovator filter',\n 'gruend': 'Start-ups',\n 'zusamm': 'merger',\n 'zusamm10': 'increase in sales because of merger',\n 'geschl': 'parts of the company closed',\n 'geschl10': 'decrease in sales because of closing',\n 'absatz': 'Core market of business',\n 'um': 'Revenue 2000',\n 'ex': 'exports 2000',\n 'exno': 'no exports',\n 'bges': 'employed',\n 'pd': 'Product innovations y/n',\n 'pz': 'Process innovation',\n 'pa': 'project cancelation',\n 'pn': 'Not yet finished projects',\n 'pdentw': 'Innovation developer',\n 'umneu': 'Revenue share of new/improved products/services',\n 'umunw': 'Revenue unchanged products',\n 'mneu': 'New products (Y/N)',\n 'mneup': 'Revenue share of new products',\n 'pzentw': 'Developmer of process innovation',\n 'rek': 'cost reduction',\n 'rekp': 'cost reduction in percent',\n 'iafetz': 'Internal R&D (Y/N)',\n 'iafue': 'Expenditure on internal R&D',\n 'iavfetz': 'External R&D',\n 'iavfue': 'External R&D expenditure',\n 'iamstz': 'Acquistion of tangibles',\n 'iams': 'Expenditure on tangibles',\n 'iaewtz': 'Acquistion of external knowledge (Y/N)',\n 'iaew': 'Acqusitional cost of external knowledge',\n 'iawstz': 'Continued education for innovation (Y/N)',\n 'iamatz': 'Market introduction for innovation (Y/N)',\n 'iapgtz': 'Prep. of production/sales of innovation',\n 'iasotz': 'other innovation costs',\n 'iaso': 'Expenditure for continued education',\n 'iages': 'total innovation expenditure',\n 'iainv': 'innovation investment expenditure',\n 'iagese': 'Development of innovation expenditure',\n 'iagesep': 'rate of change of inoovation expenditures 2001',\n 'fue': 'R&D expenditure 2006',\n 'fuekon': 'Internal R&D aktivites',\n 'fuebab': 'R&D staff',\n 'fuebso': 'R&D staff outside of department',\n 'inaus1': 'Product palette ',\n 'inaus2': 'New markets penetrated',\n 'inaus3': 'Quality improvement invoked',\n 'inaus4': 'Production flexibilty improved',\n 'inaus5': 'Production capacties increased',\n 'inaus6': 'Personnel costs cut',\n 'inaus7': 'Material and energy costs cut',\n 'inaus8': 'Environment and health conditions improved',\n 'inaus9': 'Regulation and standards fulfilled',\n 'oeff': 'public funding',\n 'foeinf1': 'Funding via private cooperation partners',\n 'foeinf2': 'Funding via public cooperation partners',\n 'foeinf3': 'Funding via credit institutes',\n 'foeinf4': 'Funding via private consulting firms',\n 'foeinf5': 'Funding via advising chambers',\n 'foeinf6': 'Funding via public technology transfer',\n 'foeinf7': 'Information via press release',\n 'foeinf8': 'Information via internet homepages',\n 'foeinf9': 'Information via direct contact',\n 'foeinf10': 'Information via corresponding posts',\n 'foeinf11': 'Funding via other institutes',\n 'foeprtz1': 'Difficulties with information (Y/N)',\n 'foeprtz2': 'Applying for documents (Y/N)',\n 'foeprtz3': 'Filling out of documents (Y/N)',\n 'foeprtz4': 'Clarification needed (Y/N)',\n 'foeprtz5': 'Required to report (Y/N)',\n 'foepr1': 'Difficulties with information',\n 'foepr2': 'Applying for documents',\n 'foepr3': 'Filling out of documents',\n 'foepr4': 'Clarification needed',\n 'foepr5': 'Required to report',\n 'foezw1': 'Purpose: Basic research',\n 'foezw2': 'Purpose: Applied research ',\n 'foezw3': 'Purpose: Development',\n 'foezw4': 'Purpose: Construction',\n 'foezw5': 'other purposes',\n 'foeaus1': 'Thanks to public funding: Project implemented',\n 'foeaus2': 'Thanks to public funding: Accelerated project begin ',\n 'foeaus3': 'Thanks to public funding: shorter project duration',\n 'foeaus4': 'Thanks to public funding: extended project scope',\n 'foeaus5': 'Thanks to public funding: increased technological demand',\n 'foeaus6': 'Thanks to public funding: patent registration',\n 'koop': 'Innovation cooperation',\n 'kod1': 'Within the corporate group Germany',\n 'kod2': 'Supplier, Germany',\n 'kod3': 'Costumers, Germany',\n 'kod4': 'Competitors, Germany',\n 'kod5': 'Consulting firms, Germany',\n 'kod6': 'Commercial R&D departments, Germany',\n 'kod7': 'Universities, universites of applies sciences, others, Germany',\n 'kod8': 'public r&d centers, germany',\n 'koa1': 'inside the group of company, abroad',\n 'koa2': 'suppliers, abroad',\n 'koa3': 'customers, abroad',\n 'koa4': 'competitor, abroad',\n 'koa5': 'consulting firms, abroad',\n 'koa6': 'commercial r&d centers, abroad',\n 'koa7': 'universities, colleges, abroad',\n 'koa8': 'public r&d centers, abroad',\n 'info1': 'Innovation source: intern business',\n 'info2': 'Innovation source: intern corporation group',\n 'info3': 'Innovation source: supplier',\n 'info4': 'Innovation source: Customers',\n 'info5': 'Innovation source: Competitors',\n 'info6': 'Innovation source: Consulting firms',\n 'info7': 'Innovation source: commercial R&D posts',\n 'info8': 'Innovation source: Universities, universites of applies sciences, others',\n 'info9': 'Innovation source: Government R&D departments',\n 'info10': 'Innovation source: Professional exchange',\n 'info11': 'Innovation source: conventions',\n 'info12': 'Innovation source: Others',\n 'hema': 'Project duration extended',\n 'hemb': 'Project cancelled',\n 'hemc': 'Project not yet begun',\n 'hemd': 'Other serious problem with project',\n 'noin1': 'No innovation demand due to earlier innovations',\n 'noin2': 'No innovation demand due to market conditions',\n 'noin3': 'No innovation, start halted',\n 'hemm1': 'because of high economic risk',\n 'hemm2': 'due to high innovation costs',\n 'hemm3': 'due to missing funds',\n 'hemm4': 'due to organisational problems',\n 'hemm5': 'due to lack of adequate staff',\n 'hemm6': 'because of messing technological information',\n 'hemm7': 'because of missing market information',\n 'hemm8': 'due to laws/ legislation',\n 'hemm9': 'because of lacking customer interest/demand',\n 'patent': 'registration of patents',\n 'patok': 'valid patents',\n 'schutz1': 'Protective measure intellectual property : Patents',\n 'schutz2': 'Protective measure intellectual property : prototype',\n 'schutz3': 'Protective measure intellectual property : brands',\n 'schutz4': 'Protective measure intellectual property : copyrights',\n 'schutz5': 'Protective measure intellectual property : confidentiality',\n 'schutz6': 'Protective measure intellectual property : complex design',\n 'schutz7': 'Protective measure intellectual property : advantage due to headstart',\n 'schu1': 'Protective success: Patents',\n 'schu2': 'Protective success: prototype',\n 'schu3': 'Protective success: brands',\n 'schu4': 'Protective success: copyrights',\n 'schu5': 'Protective success: confidentiality',\n 'schu6': 'Protective success: complex design',\n 'schu7': 'Protective success: advantage due to headstart',\n 'aktiv1': 'New business strategy',\n 'aktiv2': 'New management concepts',\n 'aktiv3': 'New organisations',\n 'aktiv4': 'New marketing',\n 'aktiv5': 'aestethic changes',\n 'bhsp': 'Share of employees with professional degrees 2000 in %',\n 'bfsp': 'professional university degrees 2000 in %',\n 'bapp': 'trainees, interns 2000 in %',\n 'bsop': 'employees, other',\n 'frauen': 'Share of women 2000',\n 'senior': 'Share of employees 55+ 2000',\n 'bgese': 'employment development in total',\n 'bhse': 'development of employees, academics',\n 'bgesep': 'employment development in total in %',\n 'bhsep': 'development of employees, academics %',\n 'bkost': 'personnel expenditure 2000 in thousands',\n 'wb': 'expenditure continued education 2000 in thousands',\n 'wbno': 'No expenditure for continued education 2000',\n 'inv': 'gross investments 2000 in thousands',\n 'invno': 'no investement 2000',\n 'invi': 'investment in IT 2000',\n 'invino': 'no investment in IT 2000',\n 'mkost': 'Material costs'}"
     },
     "metadata": {},
     "output_type": "execute_result",
     "execution_count": 32
    }
   ],
   "source": [
    "import pandas as pd\n",
    "import csv\n",
    "import matplotlib.pyplot as plt\n",
    "\n",
    "dataframe = pd.read_stata('dataset.dta')\n",
    "dataframe.to_csv('dta_to_csv_file.csv')\n",
    "pd.io.stata.StataReader('dataset.dta').variable_labels()"
   ]
  },
  {
   "cell_type": "code",
   "execution_count": 35,
   "outputs": [
    {
     "name": "stdout",
     "text": [
      "      Unnamed: 0      id  ost       branche filter gruend zusamm zusamm10  \\\n0              0     1.0  ABL    Kunststoff   nein   nein   nein      NaN   \n1              1     2.0  NBL      Sonst.DL   nein   nein   nein      NaN   \n2              2     3.0  ABL    HolzPapier     ja   nein   nein      NaN   \n3              3     4.0  ABL        Metall   nein   nein   nein      NaN   \n4              4     5.0  NBL     EDV/Telek   nein   nein   nein      NaN   \n...          ...     ...  ...           ...    ...    ...    ...      ...   \n1995        1995  1996.0  ABL  ErnaehrTabak   nein   nein   nein      NaN   \n1996        1996  1997.0  ABL  Verkehr/Post   nein   nein   nein      NaN   \n1997        1997  1998.0  NBL       GHandel     ja   nein   nein      NaN   \n1998        1998  1999.0  NBL        Textil   nein   nein   nein      NaN   \n1999        1999  2000.0  ABL        Textil     ja   nein   nein      NaN   \n\n     geschl geschl10  ... bgesep  bhsep       bkost        wb  wbno  \\\n0      nein      NaN  ...    0.0    0.0   78.293500  0.354311  nein   \n1      nein      NaN  ...   15.0    0.0         NaN  1.525725  nein   \n2      nein      NaN  ...    0.0    0.0    0.555027  0.000000    ja   \n3      nein      NaN  ...    0.0    0.0    1.762269  0.024826  nein   \n4      nein      NaN  ...   10.0   10.0    0.601373  0.001271  nein   \n...     ...      ...  ...    ...    ...         ...       ...   ...   \n1995   nein      NaN  ...    0.0    0.0    0.175650  0.001129  nein   \n1996   nein      NaN  ...   10.0    5.0  223.381670       NaN   NaN   \n1997   nein      NaN  ...    0.0    0.0    0.352308  0.000000    ja   \n1998   nein      NaN  ...    NaN  -20.0    0.095198  0.000000    ja   \n1999   nein      NaN  ...   -1.0    0.0    0.709273  0.005064  nein   \n\n            inv invno       invi invino       mkost  \n0     16.972841  nein   0.000000     ja  106.581560  \n1     33.270573  nein  21.965809   nein         NaN  \n2      0.017127  nein   0.004435   nein    0.406123  \n3      0.102493  nein   0.005050   nein         NaN  \n4      0.002815  nein   0.001368   nein         NaN  \n...         ...   ...        ...    ...         ...  \n1995   0.009789  nein        NaN    NaN    0.108480  \n1996        NaN   NaN        NaN    NaN         NaN  \n1997   0.023539  nein   0.009572   nein         NaN  \n1998   0.000000    ja   0.000000     ja    0.059976  \n1999   0.098604  nein   0.025868   nein    2.684346  \n\n[2000 rows x 174 columns]\n"
     ],
     "output_type": "stream"
    },
    {
     "data": {
      "text/plain": "      Unnamed: 0      id  ost       branche filter gruend zusamm zusamm10  \\\n0              0     1.0  ABL    Kunststoff   nein   nein   nein      NaN   \n1              1     2.0  NBL      Sonst.DL   nein   nein   nein      NaN   \n2              2     3.0  ABL    HolzPapier     ja   nein   nein      NaN   \n3              3     4.0  ABL        Metall   nein   nein   nein      NaN   \n4              4     5.0  NBL     EDV/Telek   nein   nein   nein      NaN   \n...          ...     ...  ...           ...    ...    ...    ...      ...   \n1995        1995  1996.0  ABL  ErnaehrTabak   nein   nein   nein      NaN   \n1996        1996  1997.0  ABL  Verkehr/Post   nein   nein   nein      NaN   \n1997        1997  1998.0  NBL       GHandel     ja   nein   nein      NaN   \n1998        1998  1999.0  NBL        Textil   nein   nein   nein      NaN   \n1999        1999  2000.0  ABL        Textil     ja   nein   nein      NaN   \n\n     geschl geschl10  ... bgesep  bhsep       bkost        wb  wbno  \\\n0      nein      NaN  ...    0.0    0.0   78.293500  0.354311  nein   \n1      nein      NaN  ...   15.0    0.0         NaN  1.525725  nein   \n2      nein      NaN  ...    0.0    0.0    0.555027  0.000000    ja   \n3      nein      NaN  ...    0.0    0.0    1.762269  0.024826  nein   \n4      nein      NaN  ...   10.0   10.0    0.601373  0.001271  nein   \n...     ...      ...  ...    ...    ...         ...       ...   ...   \n1995   nein      NaN  ...    0.0    0.0    0.175650  0.001129  nein   \n1996   nein      NaN  ...   10.0    5.0  223.381670       NaN   NaN   \n1997   nein      NaN  ...    0.0    0.0    0.352308  0.000000    ja   \n1998   nein      NaN  ...    NaN  -20.0    0.095198  0.000000    ja   \n1999   nein      NaN  ...   -1.0    0.0    0.709273  0.005064  nein   \n\n            inv invno       invi invino       mkost  \n0     16.972841  nein   0.000000     ja  106.581560  \n1     33.270573  nein  21.965809   nein         NaN  \n2      0.017127  nein   0.004435   nein    0.406123  \n3      0.102493  nein   0.005050   nein         NaN  \n4      0.002815  nein   0.001368   nein         NaN  \n...         ...   ...        ...    ...         ...  \n1995   0.009789  nein        NaN    NaN    0.108480  \n1996        NaN   NaN        NaN    NaN         NaN  \n1997   0.023539  nein   0.009572   nein         NaN  \n1998   0.000000    ja   0.000000     ja    0.059976  \n1999   0.098604  nein   0.025868   nein    2.684346  \n\n[2000 rows x 174 columns]",
      "text/html": "<div>\n<style scoped>\n    .dataframe tbody tr th:only-of-type {\n        vertical-align: middle;\n    }\n\n    .dataframe tbody tr th {\n        vertical-align: top;\n    }\n\n    .dataframe thead th {\n        text-align: right;\n    }\n</style>\n<table border=\"1\" class=\"dataframe\">\n  <thead>\n    <tr style=\"text-align: right;\">\n      <th></th>\n      <th>Unnamed: 0</th>\n      <th>id</th>\n      <th>ost</th>\n      <th>branche</th>\n      <th>filter</th>\n      <th>gruend</th>\n      <th>zusamm</th>\n      <th>zusamm10</th>\n      <th>geschl</th>\n      <th>geschl10</th>\n      <th>...</th>\n      <th>bgesep</th>\n      <th>bhsep</th>\n      <th>bkost</th>\n      <th>wb</th>\n      <th>wbno</th>\n      <th>inv</th>\n      <th>invno</th>\n      <th>invi</th>\n      <th>invino</th>\n      <th>mkost</th>\n    </tr>\n  </thead>\n  <tbody>\n    <tr>\n      <th>0</th>\n      <td>0</td>\n      <td>1.0</td>\n      <td>ABL</td>\n      <td>Kunststoff</td>\n      <td>nein</td>\n      <td>nein</td>\n      <td>nein</td>\n      <td>NaN</td>\n      <td>nein</td>\n      <td>NaN</td>\n      <td>...</td>\n      <td>0.0</td>\n      <td>0.0</td>\n      <td>78.293500</td>\n      <td>0.354311</td>\n      <td>nein</td>\n      <td>16.972841</td>\n      <td>nein</td>\n      <td>0.000000</td>\n      <td>ja</td>\n      <td>106.581560</td>\n    </tr>\n    <tr>\n      <th>1</th>\n      <td>1</td>\n      <td>2.0</td>\n      <td>NBL</td>\n      <td>Sonst.DL</td>\n      <td>nein</td>\n      <td>nein</td>\n      <td>nein</td>\n      <td>NaN</td>\n      <td>nein</td>\n      <td>NaN</td>\n      <td>...</td>\n      <td>15.0</td>\n      <td>0.0</td>\n      <td>NaN</td>\n      <td>1.525725</td>\n      <td>nein</td>\n      <td>33.270573</td>\n      <td>nein</td>\n      <td>21.965809</td>\n      <td>nein</td>\n      <td>NaN</td>\n    </tr>\n    <tr>\n      <th>2</th>\n      <td>2</td>\n      <td>3.0</td>\n      <td>ABL</td>\n      <td>HolzPapier</td>\n      <td>ja</td>\n      <td>nein</td>\n      <td>nein</td>\n      <td>NaN</td>\n      <td>nein</td>\n      <td>NaN</td>\n      <td>...</td>\n      <td>0.0</td>\n      <td>0.0</td>\n      <td>0.555027</td>\n      <td>0.000000</td>\n      <td>ja</td>\n      <td>0.017127</td>\n      <td>nein</td>\n      <td>0.004435</td>\n      <td>nein</td>\n      <td>0.406123</td>\n    </tr>\n    <tr>\n      <th>3</th>\n      <td>3</td>\n      <td>4.0</td>\n      <td>ABL</td>\n      <td>Metall</td>\n      <td>nein</td>\n      <td>nein</td>\n      <td>nein</td>\n      <td>NaN</td>\n      <td>nein</td>\n      <td>NaN</td>\n      <td>...</td>\n      <td>0.0</td>\n      <td>0.0</td>\n      <td>1.762269</td>\n      <td>0.024826</td>\n      <td>nein</td>\n      <td>0.102493</td>\n      <td>nein</td>\n      <td>0.005050</td>\n      <td>nein</td>\n      <td>NaN</td>\n    </tr>\n    <tr>\n      <th>4</th>\n      <td>4</td>\n      <td>5.0</td>\n      <td>NBL</td>\n      <td>EDV/Telek</td>\n      <td>nein</td>\n      <td>nein</td>\n      <td>nein</td>\n      <td>NaN</td>\n      <td>nein</td>\n      <td>NaN</td>\n      <td>...</td>\n      <td>10.0</td>\n      <td>10.0</td>\n      <td>0.601373</td>\n      <td>0.001271</td>\n      <td>nein</td>\n      <td>0.002815</td>\n      <td>nein</td>\n      <td>0.001368</td>\n      <td>nein</td>\n      <td>NaN</td>\n    </tr>\n    <tr>\n      <th>...</th>\n      <td>...</td>\n      <td>...</td>\n      <td>...</td>\n      <td>...</td>\n      <td>...</td>\n      <td>...</td>\n      <td>...</td>\n      <td>...</td>\n      <td>...</td>\n      <td>...</td>\n      <td>...</td>\n      <td>...</td>\n      <td>...</td>\n      <td>...</td>\n      <td>...</td>\n      <td>...</td>\n      <td>...</td>\n      <td>...</td>\n      <td>...</td>\n      <td>...</td>\n      <td>...</td>\n    </tr>\n    <tr>\n      <th>1995</th>\n      <td>1995</td>\n      <td>1996.0</td>\n      <td>ABL</td>\n      <td>ErnaehrTabak</td>\n      <td>nein</td>\n      <td>nein</td>\n      <td>nein</td>\n      <td>NaN</td>\n      <td>nein</td>\n      <td>NaN</td>\n      <td>...</td>\n      <td>0.0</td>\n      <td>0.0</td>\n      <td>0.175650</td>\n      <td>0.001129</td>\n      <td>nein</td>\n      <td>0.009789</td>\n      <td>nein</td>\n      <td>NaN</td>\n      <td>NaN</td>\n      <td>0.108480</td>\n    </tr>\n    <tr>\n      <th>1996</th>\n      <td>1996</td>\n      <td>1997.0</td>\n      <td>ABL</td>\n      <td>Verkehr/Post</td>\n      <td>nein</td>\n      <td>nein</td>\n      <td>nein</td>\n      <td>NaN</td>\n      <td>nein</td>\n      <td>NaN</td>\n      <td>...</td>\n      <td>10.0</td>\n      <td>5.0</td>\n      <td>223.381670</td>\n      <td>NaN</td>\n      <td>NaN</td>\n      <td>NaN</td>\n      <td>NaN</td>\n      <td>NaN</td>\n      <td>NaN</td>\n      <td>NaN</td>\n    </tr>\n    <tr>\n      <th>1997</th>\n      <td>1997</td>\n      <td>1998.0</td>\n      <td>NBL</td>\n      <td>GHandel</td>\n      <td>ja</td>\n      <td>nein</td>\n      <td>nein</td>\n      <td>NaN</td>\n      <td>nein</td>\n      <td>NaN</td>\n      <td>...</td>\n      <td>0.0</td>\n      <td>0.0</td>\n      <td>0.352308</td>\n      <td>0.000000</td>\n      <td>ja</td>\n      <td>0.023539</td>\n      <td>nein</td>\n      <td>0.009572</td>\n      <td>nein</td>\n      <td>NaN</td>\n    </tr>\n    <tr>\n      <th>1998</th>\n      <td>1998</td>\n      <td>1999.0</td>\n      <td>NBL</td>\n      <td>Textil</td>\n      <td>nein</td>\n      <td>nein</td>\n      <td>nein</td>\n      <td>NaN</td>\n      <td>nein</td>\n      <td>NaN</td>\n      <td>...</td>\n      <td>NaN</td>\n      <td>-20.0</td>\n      <td>0.095198</td>\n      <td>0.000000</td>\n      <td>ja</td>\n      <td>0.000000</td>\n      <td>ja</td>\n      <td>0.000000</td>\n      <td>ja</td>\n      <td>0.059976</td>\n    </tr>\n    <tr>\n      <th>1999</th>\n      <td>1999</td>\n      <td>2000.0</td>\n      <td>ABL</td>\n      <td>Textil</td>\n      <td>ja</td>\n      <td>nein</td>\n      <td>nein</td>\n      <td>NaN</td>\n      <td>nein</td>\n      <td>NaN</td>\n      <td>...</td>\n      <td>-1.0</td>\n      <td>0.0</td>\n      <td>0.709273</td>\n      <td>0.005064</td>\n      <td>nein</td>\n      <td>0.098604</td>\n      <td>nein</td>\n      <td>0.025868</td>\n      <td>nein</td>\n      <td>2.684346</td>\n    </tr>\n  </tbody>\n</table>\n<p>2000 rows × 174 columns</p>\n</div>"
     },
     "metadata": {},
     "output_type": "execute_result",
     "execution_count": 35
    }
   ],
   "source": [
    "dataSet = pd.read_csv('dta_to_csv_file.csv')\n",
    "print(dataSet)\n",
    "dataSet.groupby(['branche']).count()\n",
    "dataSet\n"
   ],
   "metadata": {
    "collapsed": false,
    "pycharm": {
     "name": "#%%\n",
     "is_executing": false
    }
   }
  },
  {
   "cell_type": "code",
   "execution_count": 11,
   "outputs": [
    {
     "name": "stdout",
     "text": [
      "               um       umneu schutz1\n0      410.083980         NaN    nein\n1       41.936646         NaN     NaN\n2        1.829996         x=0    nein\n3        3.071281  75<=x<=100    nein\n4        1.901261  75<=x<=100    nein\n...           ...         ...     ...\n1995     0.474227    10<=x<15    nein\n1996  1017.291200    50<=x<75     NaN\n1997     2.526801         x=0    nein\n1998     0.248527         NaN    nein\n1999     4.051942         x=0    nein\n\n[2000 rows x 3 columns]\n"
     ],
     "output_type": "stream"
    }
   ],
   "source": [
    "dataSet['branche'].value_counts()\n",
    "df = dataSet.filter(items=['um', 'umneu', 'schutz1'])\n",
    "print(df)\n"
   ],
   "metadata": {
    "collapsed": false,
    "pycharm": {
     "name": "#%%\n",
     "is_executing": false
    }
   }
  },
  {
   "cell_type": "code",
   "execution_count": null,
   "outputs": [],
   "source": [
    "#algemeen\n",
    "df.loc[df['schutz1']=='nein']\n",
    "df.loc[]"
   ],
   "metadata": {
    "collapsed": false,
    "pycharm": {
     "name": "#%%\n"
    }
   }
  },
  {
   "cell_type": "code",
   "execution_count": 31,
   "outputs": [
    {
     "name": "stdout",
     "text": [
      "nein    1483\nja       316\nName: schutz1, dtype: int64\n               um       umneu schutz1\n0      410.083980         NaN    nein\n1       41.936646         NaN     NaN\n2        1.829996         x=0    nein\n3        3.071281  75<=x<=100    nein\n4        1.901261  75<=x<=100    nein\n...           ...         ...     ...\n1995     0.474227    10<=x<15    nein\n1996  1017.291200    50<=x<75     NaN\n1997     2.526801         x=0    nein\n1998     0.248527         NaN    nein\n1999     4.051942         x=0    nein\n\n[2000 rows x 3 columns]\n              um       umneu schutz1\n15     50.942936         NaN      ja\n36      3.677460         x=0      ja\n53      2.786535         NaN      ja\n57    206.585190         NaN      ja\n63     35.133520    15<=x<20      ja\n...          ...         ...     ...\n1980  110.350790  75<=x<=100      ja\n1983    5.952483    10<=x<15      ja\n1986    1.564511    50<=x<75      ja\n1988  112.212140    10<=x<15      ja\n1992    4.252620    20<=x<30      ja\n\n[316 rows x 3 columns]\n[nan 'x=0' '15<=x<20' '5<=x<10' '0<x<5' '20<=x<30' '75<=x<=100' '50<=x<75'\n '10<=x<15' '30<=x<50']\n"
     ],
     "output_type": "stream"
    },
    {
     "name": "stderr",
     "text": [
      "c:\\users\\rugby\\venv\\untitled1\\lib\\site-packages\\pandas\\core\\indexing.py:966: SettingWithCopyWarning: \nA value is trying to be set on a copy of a slice from a DataFrame.\nTry using .loc[row_indexer,col_indexer] = value instead\n\nSee the caveats in the documentation: https://pandas.pydata.org/pandas-docs/stable/user_guide/indexing.html#returning-a-view-versus-a-copy\n  self.obj[item] = s\n"
     ],
     "output_type": "stream"
    },
    {
     "data": {
      "text/plain": "<Figure size 432x288 with 1 Axes>",
      "image/png": "[encoded data removed]"
     },
     "metadata": {
      "needs_background": "light"
     },
     "output_type": "display_data"
    }
   ],
   "source": [
    "#Patents\n",
    "df['schutz1'].dropna()\n",
    "\n",
    "schutz1 = df['schutz1']\n",
    "print(schutz1.value_counts())\n",
    "\n",
    "print(df)\n",
    "\n",
    "dfSchutz1IPTrue = df.loc[df['schutz1']=='ja']\n",
    "#df2 = df['schutz1'].str.contains('ja')\n",
    "print(dfSchutz1IPTrue)\n",
    "vars = dfSchutz1IPTrue['umneu'].unique()\n",
    "print(vars)\n",
    "dfSchutz1IPTrue.loc[df['umneu']=='x=0']=1\n",
    "dfSchutz1IPTrue.loc[df['umneu']=='0<x<5']=2\n",
    "dfSchutz1IPTrue.loc[df['umneu']=='5<=x<10']=3\n",
    "dfSchutz1IPTrue.loc[df['umneu']=='10<=x<15']=4\n",
    "dfSchutz1IPTrue.loc[df['umneu']=='15<=x<20']=5\n",
    "dfSchutz1IPTrue.loc[df['umneu']=='20<=x<30']=6\n",
    "dfSchutz1IPTrue.loc[df['umneu']=='30<=x<50']=7\n",
    "dfSchutz1IPTrue.loc[df['umneu']=='50<=x<75']=8\n",
    "dfSchutz1IPTrue.loc[df['umneu']=='75<=x<=100']=9\n",
    "\n",
    "dfSchutz1IPTrue.plot(x='umneu', y='um', kind='scatter')\n",
    "plt.show()"
   ],
   "metadata": {
    "collapsed": false,
    "pycharm": {
     "name": "#%%\n",
     "is_executing": false
    }
   }
  },
  {
   "cell_type": "code",
   "execution_count": null,
   "outputs": [],
   "source": [
    "#copyrights\n",
    "print(dataSet['schutz4'])\n",
    "answers = dataSet['schutz4'].notnull()\n",
    "print(answers)\n",
    "answers = dataSet['schutz4'].dropna()\n",
    "print(answers)"
   ],
   "metadata": {
    "collapsed": false,
    "pycharm": {
     "name": "#%%\n"
    }
   }
  }
 ],
 "metadata": {
  "language_info": {
   "codemirror_mode": {
    "name": "ipython",
    "version": 2
   },
   "file_extension": ".py",
   "mimetype": "text/x-python",
   "name": "python",
   "nbconvert_exporter": "python",
   "pygments_lexer": "ipython2",
   "version": "2.7.6"
  },
  "kernelspec": {
   "name": "python3",
   "language": "python",
   "display_name": "Python 3"
  },
  "pycharm": {
   "stem_cell": {
    "cell_type": "raw",
    "source": [],
    "metadata": {
     "collapsed": false
    }
   }
  }
 },
 "nbformat": 4,
 "nbformat_minor": 0
}